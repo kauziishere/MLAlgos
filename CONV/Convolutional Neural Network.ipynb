{
 "cells": [
  {
   "cell_type": "code",
   "execution_count": 1,
   "metadata": {},
   "outputs": [],
   "source": [
    "import numpy as np\n",
    "import random\n",
    "np.random.seed(1)"
   ]
  },
  {
   "cell_type": "code",
   "execution_count": 2,
   "metadata": {},
   "outputs": [],
   "source": [
    "def mul(inp1, inp2, bias):\n",
    "    val = 0\n",
    "    for i in range(0,inp1.shape[0]):\n",
    "        for j in range(0,inp1.shape[1]):\n",
    "            val = val + (inp1[i,j]*inp2[i,j])\n",
    "    return val + bias"
   ]
  },
  {
   "cell_type": "code",
   "execution_count": 3,
   "metadata": {},
   "outputs": [],
   "source": [
    "def relu(X, deriv = False):\n",
    "    if not deriv:\n",
    "        return np.maximum(X, 0)\n",
    "    X[X>0] = 1\n",
    "    X[X<0] = 0\n",
    "    return X"
   ]
  },
  {
   "cell_type": "code",
   "execution_count": 4,
   "metadata": {},
   "outputs": [],
   "source": [
    "def softmax(X):\n",
    "    exps = np.exp(X - np.max(X))\n",
    "    return exps / np.sum(exps)"
   ]
  },
  {
   "cell_type": "code",
   "execution_count": 5,
   "metadata": {},
   "outputs": [],
   "source": [
    "def forward(image, weights, padding = 0, stride = 2, f = 3):\n",
    "    #feedforward neural network\n",
    "    #Pre check\n",
    "    assert(image.shape == (33, 33)), \"Image is not of correct shape\"\n",
    "    #1st Convolutional Neural Network Layer\n",
    "    h = 16\n",
    "    w = 16\n",
    "    c = 4 # can be calculated using (n+2p-f)\n",
    "    cache_outputs = {}\n",
    "    output = np.zeros((h, w, c))\n",
    "    biases = weights['bias'].reshape(4,1)\n",
    "    for k in range(0, c):\n",
    "        for i in range(0, h):\n",
    "            for j in range(0, w):\n",
    "                n_h_start = i*stride\n",
    "                n_h_end = n_h_start + f\n",
    "                n_w_start = j*stride\n",
    "                n_w_end = n_w_start + f\n",
    "                output[i,j,k] = mul(image[n_h_start:n_h_end, n_w_start:n_w_end], weights['theta1'][:,:,k], biases[k])\n",
    "    output = relu(output, False)\n",
    "    cache_outputs['conv'] = output\n",
    "    output = output.reshape(1024, 1)\n",
    "    output = weights['theta2'].dot(output)\n",
    "    output = softmax(output)\n",
    "    cache_outputs['dense'] = output\n",
    "    return cache_outputs"
   ]
  },
  {
   "cell_type": "code",
   "execution_count": 6,
   "metadata": {
    "scrolled": true
   },
   "outputs": [
    {
     "name": "stdout",
     "output_type": "stream",
     "text": [
      "(10, 1)\n"
     ]
    }
   ],
   "source": [
    "weights = {'theta1': np.random.random_sample((3,3,4)), 'theta2':np.random.random_sample((10,1024)),'bias': np.random.rand(4)}\n",
    "weights['bias'].reshape(4,1)\n",
    "cache = forward(np.ones((33,33)), weights)\n",
    "print(cache['dense'].shape)"
   ]
  },
  {
   "cell_type": "code",
   "execution_count": null,
   "metadata": {},
   "outputs": [],
   "source": []
  }
 ],
 "metadata": {
  "kernelspec": {
   "display_name": "Python 3",
   "language": "python",
   "name": "python3"
  },
  "language_info": {
   "codemirror_mode": {
    "name": "ipython",
    "version": 3
   },
   "file_extension": ".py",
   "mimetype": "text/x-python",
   "name": "python",
   "nbconvert_exporter": "python",
   "pygments_lexer": "ipython3",
   "version": "3.6.3"
  }
 },
 "nbformat": 4,
 "nbformat_minor": 2
}
